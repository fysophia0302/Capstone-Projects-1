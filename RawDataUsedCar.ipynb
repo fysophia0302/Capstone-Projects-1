{
 "cells": [
  {
   "cell_type": "code",
   "execution_count": 2,
   "metadata": {},
   "outputs": [],
   "source": [
    "import pandas as pd\n",
    "import numpy as np\n",
    "import matplotlib.pylab as plt\n",
    "import seaborn as sns"
   ]
  },
  {
   "cell_type": "code",
   "execution_count": 3,
   "metadata": {},
   "outputs": [],
   "source": [
    "df=pd.read_csv('F:/DS/craigslist-used car raw data/vehicles.csv')"
   ]
  },
  {
   "cell_type": "code",
   "execution_count": 4,
   "metadata": {},
   "outputs": [
    {
     "data": {
      "text/plain": [
       "(509577, 25)"
      ]
     },
     "execution_count": 4,
     "metadata": {},
     "output_type": "execute_result"
    }
   ],
   "source": [
    "df.shape"
   ]
  },
  {
   "cell_type": "code",
   "execution_count": 5,
   "metadata": {},
   "outputs": [
    {
     "data": {
      "text/html": [
       "<div>\n",
       "<style scoped>\n",
       "    .dataframe tbody tr th:only-of-type {\n",
       "        vertical-align: middle;\n",
       "    }\n",
       "\n",
       "    .dataframe tbody tr th {\n",
       "        vertical-align: top;\n",
       "    }\n",
       "\n",
       "    .dataframe thead th {\n",
       "        text-align: right;\n",
       "    }\n",
       "</style>\n",
       "<table border=\"1\" class=\"dataframe\">\n",
       "  <thead>\n",
       "    <tr style=\"text-align: right;\">\n",
       "      <th></th>\n",
       "      <th>id</th>\n",
       "      <th>url</th>\n",
       "      <th>region</th>\n",
       "      <th>region_url</th>\n",
       "      <th>price</th>\n",
       "      <th>year</th>\n",
       "      <th>manufacturer</th>\n",
       "      <th>model</th>\n",
       "      <th>condition</th>\n",
       "      <th>cylinders</th>\n",
       "      <th>...</th>\n",
       "      <th>drive</th>\n",
       "      <th>size</th>\n",
       "      <th>type</th>\n",
       "      <th>paint_color</th>\n",
       "      <th>image_url</th>\n",
       "      <th>description</th>\n",
       "      <th>county</th>\n",
       "      <th>state</th>\n",
       "      <th>lat</th>\n",
       "      <th>long</th>\n",
       "    </tr>\n",
       "  </thead>\n",
       "  <tbody>\n",
       "    <tr>\n",
       "      <td>0</td>\n",
       "      <td>7034441763</td>\n",
       "      <td>https://saltlakecity.craigslist.org/cto/d/salt...</td>\n",
       "      <td>salt lake city</td>\n",
       "      <td>https://saltlakecity.craigslist.org</td>\n",
       "      <td>17899</td>\n",
       "      <td>2012.0</td>\n",
       "      <td>volkswagen</td>\n",
       "      <td>golf r</td>\n",
       "      <td>excellent</td>\n",
       "      <td>4 cylinders</td>\n",
       "      <td>...</td>\n",
       "      <td>4wd</td>\n",
       "      <td>compact</td>\n",
       "      <td>hatchback</td>\n",
       "      <td>black</td>\n",
       "      <td>https://images.craigslist.org/00G0G_fTLDWM5Xyv...</td>\n",
       "      <td>PRICE REDUCED!   -Garage kept -Low Miles (63K)...</td>\n",
       "      <td>NaN</td>\n",
       "      <td>ut</td>\n",
       "      <td>40.7372</td>\n",
       "      <td>-111.858</td>\n",
       "    </tr>\n",
       "    <tr>\n",
       "      <td>1</td>\n",
       "      <td>7034440610</td>\n",
       "      <td>https://saltlakecity.craigslist.org/ctd/d/sand...</td>\n",
       "      <td>salt lake city</td>\n",
       "      <td>https://saltlakecity.craigslist.org</td>\n",
       "      <td>0</td>\n",
       "      <td>2016.0</td>\n",
       "      <td>ford</td>\n",
       "      <td>f-150</td>\n",
       "      <td>excellent</td>\n",
       "      <td>NaN</td>\n",
       "      <td>...</td>\n",
       "      <td>4wd</td>\n",
       "      <td>NaN</td>\n",
       "      <td>NaN</td>\n",
       "      <td>NaN</td>\n",
       "      <td>https://images.craigslist.org/00v0v_7Cu0buIofU...</td>\n",
       "      <td>Drive it home today. Call (Or Text) us now !!C...</td>\n",
       "      <td>NaN</td>\n",
       "      <td>ut</td>\n",
       "      <td>40.5881</td>\n",
       "      <td>-111.884</td>\n",
       "    </tr>\n",
       "    <tr>\n",
       "      <td>2</td>\n",
       "      <td>7034440588</td>\n",
       "      <td>https://saltlakecity.craigslist.org/ctd/d/sand...</td>\n",
       "      <td>salt lake city</td>\n",
       "      <td>https://saltlakecity.craigslist.org</td>\n",
       "      <td>46463</td>\n",
       "      <td>2015.0</td>\n",
       "      <td>gmc</td>\n",
       "      <td>sierra 1500</td>\n",
       "      <td>excellent</td>\n",
       "      <td>NaN</td>\n",
       "      <td>...</td>\n",
       "      <td>4wd</td>\n",
       "      <td>NaN</td>\n",
       "      <td>NaN</td>\n",
       "      <td>white</td>\n",
       "      <td>https://images.craigslist.org/01515_lPvJ9bfbdY...</td>\n",
       "      <td>Drive it home today. Call (Or Text) us now !!C...</td>\n",
       "      <td>NaN</td>\n",
       "      <td>ut</td>\n",
       "      <td>40.5881</td>\n",
       "      <td>-111.884</td>\n",
       "    </tr>\n",
       "    <tr>\n",
       "      <td>3</td>\n",
       "      <td>7034440546</td>\n",
       "      <td>https://saltlakecity.craigslist.org/ctd/d/sand...</td>\n",
       "      <td>salt lake city</td>\n",
       "      <td>https://saltlakecity.craigslist.org</td>\n",
       "      <td>0</td>\n",
       "      <td>2016.0</td>\n",
       "      <td>ford</td>\n",
       "      <td>f-150</td>\n",
       "      <td>excellent</td>\n",
       "      <td>NaN</td>\n",
       "      <td>...</td>\n",
       "      <td>4wd</td>\n",
       "      <td>NaN</td>\n",
       "      <td>NaN</td>\n",
       "      <td>NaN</td>\n",
       "      <td>https://images.craigslist.org/00T0T_6Rjfp3NS4O...</td>\n",
       "      <td>Drive it home today. Call (Or Text) us now !!C...</td>\n",
       "      <td>NaN</td>\n",
       "      <td>ut</td>\n",
       "      <td>40.5881</td>\n",
       "      <td>-111.884</td>\n",
       "    </tr>\n",
       "    <tr>\n",
       "      <td>4</td>\n",
       "      <td>7034406932</td>\n",
       "      <td>https://saltlakecity.craigslist.org/ctd/d/evan...</td>\n",
       "      <td>salt lake city</td>\n",
       "      <td>https://saltlakecity.craigslist.org</td>\n",
       "      <td>49999</td>\n",
       "      <td>2018.0</td>\n",
       "      <td>ford</td>\n",
       "      <td>f-450</td>\n",
       "      <td>NaN</td>\n",
       "      <td>NaN</td>\n",
       "      <td>...</td>\n",
       "      <td>4wd</td>\n",
       "      <td>NaN</td>\n",
       "      <td>pickup</td>\n",
       "      <td>white</td>\n",
       "      <td>https://images.craigslist.org/00W0W_8yIUwRBXXd...</td>\n",
       "      <td>2018 Ford F-350 F350 F 350 SD Lariat Crew Cab ...</td>\n",
       "      <td>NaN</td>\n",
       "      <td>ut</td>\n",
       "      <td>40.3744</td>\n",
       "      <td>-104.694</td>\n",
       "    </tr>\n",
       "  </tbody>\n",
       "</table>\n",
       "<p>5 rows × 25 columns</p>\n",
       "</div>"
      ],
      "text/plain": [
       "           id                                                url  \\\n",
       "0  7034441763  https://saltlakecity.craigslist.org/cto/d/salt...   \n",
       "1  7034440610  https://saltlakecity.craigslist.org/ctd/d/sand...   \n",
       "2  7034440588  https://saltlakecity.craigslist.org/ctd/d/sand...   \n",
       "3  7034440546  https://saltlakecity.craigslist.org/ctd/d/sand...   \n",
       "4  7034406932  https://saltlakecity.craigslist.org/ctd/d/evan...   \n",
       "\n",
       "           region                           region_url  price    year  \\\n",
       "0  salt lake city  https://saltlakecity.craigslist.org  17899  2012.0   \n",
       "1  salt lake city  https://saltlakecity.craigslist.org      0  2016.0   \n",
       "2  salt lake city  https://saltlakecity.craigslist.org  46463  2015.0   \n",
       "3  salt lake city  https://saltlakecity.craigslist.org      0  2016.0   \n",
       "4  salt lake city  https://saltlakecity.craigslist.org  49999  2018.0   \n",
       "\n",
       "  manufacturer        model  condition    cylinders  ... drive     size  \\\n",
       "0   volkswagen       golf r  excellent  4 cylinders  ...   4wd  compact   \n",
       "1         ford        f-150  excellent          NaN  ...   4wd      NaN   \n",
       "2          gmc  sierra 1500  excellent          NaN  ...   4wd      NaN   \n",
       "3         ford        f-150  excellent          NaN  ...   4wd      NaN   \n",
       "4         ford        f-450        NaN          NaN  ...   4wd      NaN   \n",
       "\n",
       "        type paint_color                                          image_url  \\\n",
       "0  hatchback       black  https://images.craigslist.org/00G0G_fTLDWM5Xyv...   \n",
       "1        NaN         NaN  https://images.craigslist.org/00v0v_7Cu0buIofU...   \n",
       "2        NaN       white  https://images.craigslist.org/01515_lPvJ9bfbdY...   \n",
       "3        NaN         NaN  https://images.craigslist.org/00T0T_6Rjfp3NS4O...   \n",
       "4     pickup       white  https://images.craigslist.org/00W0W_8yIUwRBXXd...   \n",
       "\n",
       "                                         description county state      lat  \\\n",
       "0  PRICE REDUCED!   -Garage kept -Low Miles (63K)...    NaN    ut  40.7372   \n",
       "1  Drive it home today. Call (Or Text) us now !!C...    NaN    ut  40.5881   \n",
       "2  Drive it home today. Call (Or Text) us now !!C...    NaN    ut  40.5881   \n",
       "3  Drive it home today. Call (Or Text) us now !!C...    NaN    ut  40.5881   \n",
       "4  2018 Ford F-350 F350 F 350 SD Lariat Crew Cab ...    NaN    ut  40.3744   \n",
       "\n",
       "      long  \n",
       "0 -111.858  \n",
       "1 -111.884  \n",
       "2 -111.884  \n",
       "3 -111.884  \n",
       "4 -104.694  \n",
       "\n",
       "[5 rows x 25 columns]"
      ]
     },
     "execution_count": 5,
     "metadata": {},
     "output_type": "execute_result"
    }
   ],
   "source": [
    "df.head(5)"
   ]
  },
  {
   "cell_type": "code",
   "execution_count": 6,
   "metadata": {},
   "outputs": [],
   "source": [
    "#drop the columns I don't need\n",
    "drop_columns=['id','url','region','region_url','cylinders','type','image_url','county','state','lat','long','vin','description','paint_color','size']"
   ]
  },
  {
   "cell_type": "code",
   "execution_count": 7,
   "metadata": {},
   "outputs": [],
   "source": [
    "df=df.drop(columns=drop_columns)"
   ]
  },
  {
   "cell_type": "code",
   "execution_count": 8,
   "metadata": {},
   "outputs": [
    {
     "name": "stdout",
     "output_type": "stream",
     "text": [
      "<class 'pandas.core.frame.DataFrame'>\n",
      "RangeIndex: 509577 entries, 0 to 509576\n",
      "Data columns (total 10 columns):\n",
      "price           509577 non-null int64\n",
      "year            508050 non-null float64\n",
      "manufacturer    486813 non-null object\n",
      "model           501588 non-null object\n",
      "condition       277643 non-null object\n",
      "fuel            505592 non-null object\n",
      "odometer        417253 non-null float64\n",
      "title_status    506515 non-null object\n",
      "transmission    505858 non-null object\n",
      "drive           365434 non-null object\n",
      "dtypes: float64(2), int64(1), object(7)\n",
      "memory usage: 38.9+ MB\n"
     ]
    }
   ],
   "source": [
    "df.info()"
   ]
  },
  {
   "cell_type": "code",
   "execution_count": null,
   "metadata": {},
   "outputs": [],
   "source": []
  },
  {
   "cell_type": "code",
   "execution_count": 37,
   "metadata": {},
   "outputs": [],
   "source": [
    "columns_label=['Prices','Year','Manufacturer','Model','Condition','Fuel','Meter','Status','Transmission','Drive']\n",
    "df.columns=columns_label"
   ]
  },
  {
   "cell_type": "code",
   "execution_count": 38,
   "metadata": {},
   "outputs": [
    {
     "data": {
      "text/html": [
       "<div>\n",
       "<style scoped>\n",
       "    .dataframe tbody tr th:only-of-type {\n",
       "        vertical-align: middle;\n",
       "    }\n",
       "\n",
       "    .dataframe tbody tr th {\n",
       "        vertical-align: top;\n",
       "    }\n",
       "\n",
       "    .dataframe thead th {\n",
       "        text-align: right;\n",
       "    }\n",
       "</style>\n",
       "<table border=\"1\" class=\"dataframe\">\n",
       "  <thead>\n",
       "    <tr style=\"text-align: right;\">\n",
       "      <th></th>\n",
       "      <th>Prices</th>\n",
       "      <th>Year</th>\n",
       "      <th>Manufacturer</th>\n",
       "      <th>Model</th>\n",
       "      <th>Condition</th>\n",
       "      <th>Fuel</th>\n",
       "      <th>Meter</th>\n",
       "      <th>Status</th>\n",
       "      <th>Transmission</th>\n",
       "      <th>Drive</th>\n",
       "    </tr>\n",
       "  </thead>\n",
       "  <tbody>\n",
       "    <tr>\n",
       "      <td>0</td>\n",
       "      <td>17899</td>\n",
       "      <td>2012.0</td>\n",
       "      <td>volkswagen</td>\n",
       "      <td>golf r</td>\n",
       "      <td>excellent</td>\n",
       "      <td>gas</td>\n",
       "      <td>63500.0</td>\n",
       "      <td>clean</td>\n",
       "      <td>manual</td>\n",
       "      <td>4wd</td>\n",
       "    </tr>\n",
       "    <tr>\n",
       "      <td>1</td>\n",
       "      <td>0</td>\n",
       "      <td>2016.0</td>\n",
       "      <td>ford</td>\n",
       "      <td>f-150</td>\n",
       "      <td>excellent</td>\n",
       "      <td>gas</td>\n",
       "      <td>10.0</td>\n",
       "      <td>clean</td>\n",
       "      <td>automatic</td>\n",
       "      <td>4wd</td>\n",
       "    </tr>\n",
       "    <tr>\n",
       "      <td>2</td>\n",
       "      <td>46463</td>\n",
       "      <td>2015.0</td>\n",
       "      <td>gmc</td>\n",
       "      <td>sierra 1500</td>\n",
       "      <td>excellent</td>\n",
       "      <td>gas</td>\n",
       "      <td>7554.0</td>\n",
       "      <td>clean</td>\n",
       "      <td>automatic</td>\n",
       "      <td>4wd</td>\n",
       "    </tr>\n",
       "    <tr>\n",
       "      <td>3</td>\n",
       "      <td>0</td>\n",
       "      <td>2016.0</td>\n",
       "      <td>ford</td>\n",
       "      <td>f-150</td>\n",
       "      <td>excellent</td>\n",
       "      <td>gas</td>\n",
       "      <td>10.0</td>\n",
       "      <td>clean</td>\n",
       "      <td>automatic</td>\n",
       "      <td>4wd</td>\n",
       "    </tr>\n",
       "    <tr>\n",
       "      <td>4</td>\n",
       "      <td>49999</td>\n",
       "      <td>2018.0</td>\n",
       "      <td>ford</td>\n",
       "      <td>f-450</td>\n",
       "      <td>NaN</td>\n",
       "      <td>diesel</td>\n",
       "      <td>70150.0</td>\n",
       "      <td>clean</td>\n",
       "      <td>automatic</td>\n",
       "      <td>4wd</td>\n",
       "    </tr>\n",
       "  </tbody>\n",
       "</table>\n",
       "</div>"
      ],
      "text/plain": [
       "   Prices    Year Manufacturer        Model  Condition    Fuel    Meter  \\\n",
       "0   17899  2012.0   volkswagen       golf r  excellent     gas  63500.0   \n",
       "1       0  2016.0         ford        f-150  excellent     gas     10.0   \n",
       "2   46463  2015.0          gmc  sierra 1500  excellent     gas   7554.0   \n",
       "3       0  2016.0         ford        f-150  excellent     gas     10.0   \n",
       "4   49999  2018.0         ford        f-450        NaN  diesel  70150.0   \n",
       "\n",
       "  Status Transmission Drive  \n",
       "0  clean       manual   4wd  \n",
       "1  clean    automatic   4wd  \n",
       "2  clean    automatic   4wd  \n",
       "3  clean    automatic   4wd  \n",
       "4  clean    automatic   4wd  "
      ]
     },
     "execution_count": 38,
     "metadata": {},
     "output_type": "execute_result"
    }
   ],
   "source": [
    "df.head(5)"
   ]
  },
  {
   "cell_type": "code",
   "execution_count": 39,
   "metadata": {},
   "outputs": [
    {
     "data": {
      "text/plain": [
       "Prices               0\n",
       "Year                 0\n",
       "Manufacturer     22764\n",
       "Model             7989\n",
       "Condition       231934\n",
       "Fuel              3985\n",
       "Meter            92324\n",
       "Status            3062\n",
       "Transmission      3719\n",
       "Drive           144143\n",
       "dtype: int64"
      ]
     },
     "execution_count": 39,
     "metadata": {},
     "output_type": "execute_result"
    }
   ],
   "source": [
    "#Calculate missing data of each column\n",
    "df.isnull().sum()"
   ]
  },
  {
   "cell_type": "code",
   "execution_count": 42,
   "metadata": {},
   "outputs": [
    {
     "name": "stdout",
     "output_type": "stream",
     "text": [
      "float64\n"
     ]
    }
   ],
   "source": [
    "#check the dtype of 'Year'\n",
    "print(df['Year'].dtypes)"
   ]
  },
  {
   "cell_type": "code",
   "execution_count": 47,
   "metadata": {},
   "outputs": [],
   "source": [
    "#fill missing data of 'Year'\n",
    "df['Year'].fillna(0, inplace=True)"
   ]
  },
  {
   "cell_type": "code",
   "execution_count": 95,
   "metadata": {},
   "outputs": [],
   "source": [
    "#drop the ones year=1990\n",
    "df = df[df['Year']>=1990]"
   ]
  },
  {
   "cell_type": "code",
   "execution_count": 96,
   "metadata": {},
   "outputs": [],
   "source": [
    "#astype 'Year' into int32\n",
    "df['Year']= df['Year'].astype('int32')"
   ]
  },
  {
   "cell_type": "code",
   "execution_count": 97,
   "metadata": {},
   "outputs": [],
   "source": [
    "#fill missing data of 'Manufacturer'\n",
    "df['Manufacturer'].fillna('unkonw',inplace=True)"
   ]
  },
  {
   "cell_type": "code",
   "execution_count": 98,
   "metadata": {},
   "outputs": [],
   "source": [
    "#fill missing data of 'Manufacturer'\n",
    "df['Manufacturer'].fillna('unkonw',inplace=True)"
   ]
  },
  {
   "cell_type": "code",
   "execution_count": 99,
   "metadata": {},
   "outputs": [
    {
     "name": "stdout",
     "output_type": "stream",
     "text": [
      "object\n"
     ]
    }
   ],
   "source": [
    "#check the dtype of 'Model'\n",
    "print(df['Model'].dtypes)"
   ]
  },
  {
   "cell_type": "code",
   "execution_count": 100,
   "metadata": {},
   "outputs": [],
   "source": [
    "#fill missing data of 'Model'\n",
    "df['Model'].fillna('unkonw',inplace=True)"
   ]
  },
  {
   "cell_type": "code",
   "execution_count": 101,
   "metadata": {},
   "outputs": [],
   "source": [
    "#fill missing data of 'Condition'\n",
    "df['Condition'].fillna('unkonw',inplace=True)"
   ]
  },
  {
   "cell_type": "code",
   "execution_count": 102,
   "metadata": {},
   "outputs": [],
   "source": [
    "#fill missing data of 'Condition'\n",
    "df['Condition'].fillna('unkonw',inplace=True)"
   ]
  },
  {
   "cell_type": "code",
   "execution_count": 103,
   "metadata": {},
   "outputs": [],
   "source": [
    "#fill missing data of 'Fuel'\n",
    "df['Fuel'].fillna('unkonw',inplace=True)"
   ]
  },
  {
   "cell_type": "code",
   "execution_count": 104,
   "metadata": {},
   "outputs": [
    {
     "name": "stdout",
     "output_type": "stream",
     "text": [
      "float64\n"
     ]
    }
   ],
   "source": [
    "#check the dtype of 'Meter'\n",
    "print(df['Meter'].dtypes)"
   ]
  },
  {
   "cell_type": "code",
   "execution_count": 105,
   "metadata": {},
   "outputs": [],
   "source": [
    "#fill missing data of 'Meter'\n",
    "df['Meter'].fillna(0,inplace=True)"
   ]
  },
  {
   "cell_type": "code",
   "execution_count": 121,
   "metadata": {},
   "outputs": [],
   "source": [
    "#drop the ones meter=0\n",
    "df=df[df['Meter']>0]"
   ]
  },
  {
   "cell_type": "code",
   "execution_count": 122,
   "metadata": {},
   "outputs": [],
   "source": [
    "#fill missing data of 'Status'\n",
    "df['Status'].fillna('unkonw',inplace=True)"
   ]
  },
  {
   "cell_type": "code",
   "execution_count": 123,
   "metadata": {},
   "outputs": [],
   "source": [
    "#fill missing data of 'Transmission'\n",
    "df['Transmission'].fillna('unkonw',inplace=True)"
   ]
  },
  {
   "cell_type": "code",
   "execution_count": 124,
   "metadata": {},
   "outputs": [],
   "source": [
    "#fill missing data of 'Drive'\n",
    "df['Drive'].fillna('unkonw',inplace=True)"
   ]
  },
  {
   "cell_type": "code",
   "execution_count": 125,
   "metadata": {},
   "outputs": [
    {
     "data": {
      "text/plain": [
       "Prices          0\n",
       "Year            0\n",
       "Manufacturer    0\n",
       "Model           0\n",
       "Condition       0\n",
       "Fuel            0\n",
       "Meter           0\n",
       "Status          0\n",
       "Transmission    0\n",
       "Drive           0\n",
       "dtype: int64"
      ]
     },
     "execution_count": 125,
     "metadata": {},
     "output_type": "execute_result"
    }
   ],
   "source": [
    "#Calculate missing data of each column\n",
    "df.isnull().sum()"
   ]
  },
  {
   "cell_type": "code",
   "execution_count": 126,
   "metadata": {},
   "outputs": [
    {
     "name": "stdout",
     "output_type": "stream",
     "text": [
      "<class 'pandas.core.frame.DataFrame'>\n",
      "Int64Index: 408090 entries, 0 to 509576\n",
      "Data columns (total 10 columns):\n",
      "Prices          408090 non-null int64\n",
      "Year            408090 non-null int32\n",
      "Manufacturer    408090 non-null object\n",
      "Model           408090 non-null object\n",
      "Condition       408090 non-null object\n",
      "Fuel            408090 non-null object\n",
      "Meter           408090 non-null float64\n",
      "Status          408090 non-null object\n",
      "Transmission    408090 non-null object\n",
      "Drive           408090 non-null object\n",
      "dtypes: float64(1), int32(1), int64(1), object(7)\n",
      "memory usage: 32.7+ MB\n"
     ]
    }
   ],
   "source": [
    "df.info()"
   ]
  },
  {
   "cell_type": "code",
   "execution_count": 127,
   "metadata": {},
   "outputs": [
    {
     "data": {
      "text/plain": [
       "<matplotlib.axes._subplots.AxesSubplot at 0x1c384c1ab08>"
      ]
     },
     "execution_count": 127,
     "metadata": {},
     "output_type": "execute_result"
    },
    {
     "data": {
      "image/png": "[encoded data removed]",
      "text/plain": [
       "<Figure size 432x288 with 1 Axes>"
      ]
     },
     "metadata": {
      "needs_background": "light"
     },
     "output_type": "display_data"
    }
   ],
   "source": [
    "df.plot.scatter(x='Year',y='Prices',\n",
    "                      c='DarkBlue')"
   ]
  },
  {
   "cell_type": "code",
   "execution_count": 128,
   "metadata": {},
   "outputs": [
    {
     "data": {
      "text/plain": [
       "<matplotlib.axes._subplots.AxesSubplot at 0x1c38e746ac8>"
      ]
     },
     "execution_count": 128,
     "metadata": {},
     "output_type": "execute_result"
    },
    {
     "data": {
      "image/png": "[encoded data removed]",
      "text/plain": [
       "<Figure size 432x288 with 1 Axes>"
      ]
     },
     "metadata": {
      "needs_background": "light"
     },
     "output_type": "display_data"
    }
   ],
   "source": [
    "df.plot.scatter(x='Meter',y='Prices',\n",
    "                      c='Red')"
   ]
  },
  {
   "cell_type": "code",
   "execution_count": null,
   "metadata": {},
   "outputs": [],
   "source": []
  },
  {
   "cell_type": "code",
   "execution_count": null,
   "metadata": {},
   "outputs": [],
   "source": []
  }
 ],
 "metadata": {
  "kernelspec": {
   "display_name": "Python 3",
   "language": "python",
   "name": "python3"
  },
  "language_info": {
   "codemirror_mode": {
    "name": "ipython",
    "version": 3
   },
   "file_extension": ".py",
   "mimetype": "text/x-python",
   "name": "python",
   "nbconvert_exporter": "python",
   "pygments_lexer": "ipython3",
   "version": "3.7.4"
  }
 },
 "nbformat": 4,
 "nbformat_minor": 2
}
